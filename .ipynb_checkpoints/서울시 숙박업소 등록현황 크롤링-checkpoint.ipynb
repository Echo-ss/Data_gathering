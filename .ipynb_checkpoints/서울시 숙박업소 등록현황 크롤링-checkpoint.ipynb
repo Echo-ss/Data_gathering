{
 "cells": [
  {
   "cell_type": "markdown",
   "metadata": {},
   "source": [
    "# 서울시 숙박업소 등록 현황 크롤링 해보기\n",
    "\n",
    "데이터 출처 : 서울열린데이터광장\n",
    "\n",
    "데이터 수집 방식 : API(Type: xml) \n",
    "### ● 어느 행정동의 숙박업소가 가장 많을까?"
   ]
  },
  {
   "cell_type": "code",
   "execution_count": 1,
   "metadata": {},
   "outputs": [],
   "source": [
    "import pandas as pd\n",
    "from collections import OrderedDict\n",
    "from bs4 import BeautifulSoup\n",
    "import requests\n",
    "import re"
   ]
  },
  {
   "cell_type": "code",
   "execution_count": 3,
   "metadata": {},
   "outputs": [],
   "source": [
    "startnumber= 1\n",
    "current = 1000\n",
    "\n",
    "API_key = '4a4c52647a736563353472796e6462'\n",
    "AccommodationInfor = {}                       # 숙박업소 데이터 OrderedDict 할 딕셔너리 변수\n",
    "BizCon_list = []                              # 데이터프레임의 BIZCON Key의 Values 가 될 리스트 변수\n",
    "RdnmAdr_list = []                             # 데이터프레임의 RDNMADR Key의 Values 가 될 리스트 변수"
   ]
  },
  {
   "cell_type": "markdown",
   "metadata": {},
   "source": [
    "### ● 데이터 수집\n",
    "데이터 컬럼중에 업태, 주소만을 가져왔다. 그리고 데이터를 나눠서 가져오는걸로 해보았다.\n",
    "url 변수로 요청을 보내고 requests.get으로 값을 받아 req에 넣는다. BeautifulSoup으로 parser한 데이터를 soup에 넣고 soup.find_all로 원하는 태그의 값만 추출 각 변수에 넣고 데이터 프레임에 넣기 위한 사전 작업을 했다. 사전 작업에서는 정규식을 사용해서 '○○○동과 ○○○1가'와 같은 데이터만 뽑아냈다."
   ]
  },
  {
   "cell_type": "code",
   "execution_count": 4,
   "metadata": {},
   "outputs": [
    {
     "name": "stdout",
     "output_type": "stream",
     "text": [
      "1000\n",
      "1000\n",
      "1000\n",
      "212\n"
     ]
    }
   ],
   "source": [
    "while current <= 3212:\n",
    "    url = 'http://openapi.seoul.go.kr:8088/'+API_key+'/xml/StateLdgindsty/'+str(startnumber)+'/'+str(current)+'/'\n",
    "    req = requests.get(url)\n",
    "    html = req.text\n",
    "    soup = BeautifulSoup(html, 'html.parser')\n",
    "    temp2 = []\n",
    "    cnt = 0\n",
    "\n",
    "    BizCon = soup.find_all('bizcon')\n",
    "    RdnmAdr = soup.find_all('rdnmadr')\n",
    "\n",
    "    for x in BizCon:\n",
    "        BizCon_list.append(x.text)\n",
    "    for x in RdnmAdr:\n",
    "        if x.text:\n",
    "            p = re.compile(\"([(]\\w+동|[(]\\w+가)\")\n",
    "            temp = p.search(x.text)\n",
    "            cnt += 1\n",
    "            temp2 = temp.group(1).strip('(')\n",
    "            RdnmAdr_list.append(temp2)\n",
    "        else:\n",
    "            cnt += 1\n",
    "            RdnmAdr_list.append(\"None\")\n",
    "\n",
    "    print(cnt)\n",
    "    startnumber += 1000\n",
    "    if startnumber > 3000:\n",
    "        current = current + 212\n",
    "    else:\n",
    "        current += 1000"
   ]
  },
  {
   "cell_type": "markdown",
   "metadata": {},
   "source": [
    "### ● 데이터 프레임 생성 및 파일로 내보내기\n",
    "OrderedDict 자료구조로 데이터 프레임을 생성하게 하여 순서 뒤바뀌지 않게 했다. 한글은 파일로 내보낼 때 깨지기 때문에 인코딩 시 ms949를 꼭 해주기! Accommodation.csv는 각 업태(숙박(일반) 호텔, 민박 등등)와 주소를 기본 데이터를 파일 저장하고 Accommodation_groupby_df_cnt.csv 은 어느 행정동에서 숙박업소 등록이 가장 많을까 실질적 데이터를 groupby후에 정렬하여 저장한 파일이다."
   ]
  },
  {
   "cell_type": "code",
   "execution_count": 6,
   "metadata": {},
   "outputs": [],
   "source": [
    "AccommodationInfor = OrderedDict([ ('BIZCON', BizCon_list), ('RDNMADR', RdnmAdr_list) ])\n",
    "df = pd.DataFrame.from_dict(AccommodationInfor)\n",
    "\n",
    "#print(df.tail())\n",
    "\n",
    "df.to_csv('Accommodation.csv', encoding='ms949')\n",
    "\n",
    "groupby_df = df.groupby('RDNMADR')\n",
    "groupby_df.groups\n",
    "\n",
    "#for rdnmadr, group in groupby_df:\n",
    "#    print(rdnmadr + \": \" + str(len(group)))\n",
    "#    print()\n",
    "\n",
    "groupby_df_cnt = pd.DataFrame({'count' : groupby_df.size()}).reset_index()\n",
    "groupby_df_cnt = groupby_df_cnt.sort_values([\"count\"], ascending=[False]).reset_index()\n",
    "\n",
    "groupby_df_cnt.to_csv('Accommodation_groupby_df_cnt.csv', encoding='ms949')"
   ]
  }
 ],
 "metadata": {
  "kernelspec": {
   "display_name": "Python 3",
   "language": "python",
   "name": "python3"
  },
  "language_info": {
   "codemirror_mode": {
    "name": "ipython",
    "version": 3
   },
   "file_extension": ".py",
   "mimetype": "text/x-python",
   "name": "python",
   "nbconvert_exporter": "python",
   "pygments_lexer": "ipython3",
   "version": "3.7.3"
  }
 },
 "nbformat": 4,
 "nbformat_minor": 2
}
